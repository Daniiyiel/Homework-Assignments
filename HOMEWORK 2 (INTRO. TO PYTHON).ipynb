{
 "cells": [
  {
   "cell_type": "code",
   "execution_count": null,
   "id": "089661b3-a424-4c2d-9a50-c9203e36d2ec",
   "metadata": {},
   "outputs": [],
   "source": [
    "# N0 1\n",
    "Player_1 = input(\"player 1, please input either Rock,Paper, or Scissors:\").strip().lower()\n",
    "Player_2 = input(\"player 2, please input either Rock,Paper, or Scissors:\").strip().lower()\n",
    "Valid_chioces ={'rock', 'paper', 'scissors'}\n",
    "if Player_1 not in Valid_chioces or Player_2 not in Valid_chioces:\n",
    "  print('Invalid Input!, Please write either Rock,Paper, or Scissors')\n",
    "else:\n",
    "    if Player_1 == Player_2:\n",
    "        print('it is a tie!')\n",
    "    elif (Player_1 == 'rock' and Player_2=='scissors' ) or \\\n",
    "         (Player_1 == 'scissors' and Player_2=='paper' ) or \\\n",
    "         (Player_1 == 'paper' and Player_2=='rock' ):\n",
    "        print('Player 1 wins!')\n",
    "    else:\n",
    "        print('Player 2 wins!')\n",
    "\n",
    "        "
   ]
  },
  {
   "cell_type": "code",
   "execution_count": null,
   "id": "68d7f5f9-6358-40c9-9290-e4142f6a4576",
   "metadata": {},
   "outputs": [],
   "source": [
    "# N0 2\n",
    "try:\n",
    "  First_value = float(input('Write the value for p:'))\n",
    "  Second_value = float(input('Write the value for q:'))\n",
    "  Rectangular_Area = First_value * Second_value\n",
    "  Radius = Second_value/2\n",
    "  Semicicle_Area = (3.14 *  Radius** 2) \n",
    "  Answer = Semicicle_Area + Rectangular_Area\n",
    "  print(f'The area of the football stadium is : {Answer}')\n",
    "except ValueError:\n",
    "                print('Please enter valid integer values for p and q')"
   ]
  },
  {
   "cell_type": "code",
   "execution_count": null,
   "id": "f667f133-5fb0-4758-94e4-427c48fa53b3",
   "metadata": {},
   "outputs": [],
   "source": [
    "# N0 3\n",
    "Card_number = input ('Enter the credit card number:').strip()\n",
    "if not Card_number:\n",
    "  print ('invalid')\n",
    "elif Card_number[0] not in '456':\n",
    "    print('invalid')\n",
    "elif any ( char not in \"0123456789-\" for char in Card_number):\n",
    "    print('Invalid')\n",
    "else:\n",
    "    card_number_w_h = Card_number.replace('-', '')\n",
    "    if len(card_number_w_h) !=16 or not card_number_w_h.isdigit():\n",
    "        print('Invalid')\n",
    "    else:\n",
    "        if '-' in Card_number:\n",
    "            groups = Card_number.split('-')\n",
    "            if len(groups) != 4 or any(len(group) != 4 for group in groups):\n",
    "                print('Invalid')\n",
    "            else:\n",
    "                if any(card_number_w_h[i] == card_number_w_h[i+1] == card_number_w_h[i+2] == card_number_w_h[i+3] for i in range(len(card_number_w_h)-3)):\n",
    "                  print('Invalid')\n",
    "                else:\n",
    "                    print('valid')\n",
    "            \n",
    "        else:\n",
    "            if any(card_number_w_h[i] == card_number_w_h[i+1] == card_number_w_h[i+2] == card_number_w_h[i+3] for i in range(len(card_number_w_h)-3)):\n",
    "                 print('Invalid')\n",
    "            else:\n",
    "                 print('valid')\n",
    "             "
   ]
  },
  {
   "cell_type": "code",
   "execution_count": null,
   "id": "806db875-ab32-4b10-bb8b-e52d5aa80a6c",
   "metadata": {},
   "outputs": [],
   "source": [
    "# N0 4\n",
    "grouped_dict = {}\n",
    "print('Enter Key-value pairs (e.g., \"A1\" or \"B2\"). Press Enter without typing anything to stop.')\n",
    "\n",
    "while True:\n",
    "    user_input = input('Enter Key and Value: ').strip()\n",
    "\n",
    "    if not user_input: \n",
    "        break\n",
    "\n",
    "    try:\n",
    "        if len(user_input) < 2:\n",
    "            raise ValueError\n",
    "\n",
    "        key = user_input[0] \n",
    "        value = user_input[1:] \n",
    "        value = int(value)  \n",
    "\n",
    "    \n",
    "        if key in grouped_dict:\n",
    "            grouped_dict[key].append(value) \n",
    "        else:\n",
    "            grouped_dict[key] = [value] \n",
    "\n",
    "    except ValueError:\n",
    "        print('Invalid input. Please enter a valid key-value pair in format \"A1\" or \"B2\".')\n",
    "\n",
    "print(grouped_dict)\n"
   ]
  },
  {
   "cell_type": "code",
   "execution_count": null,
   "id": "f4543b2c-1251-4077-8b60-5bbd7ff53d6e",
   "metadata": {},
   "outputs": [],
   "source": [
    "# N0 5\n",
    "nested_list = eval(input(\"Enter a nested list (e.g., [[1,2,[3,4]], [5,6], 7]): \"))\n",
    "\n",
    "flat_list = []  \n",
    "stack = [nested_list]  \n",
    "\n",
    "while stack:\n",
    "    current = stack.pop(0)  \n",
    "    \n",
    "    if isinstance(current, list):  \n",
    "        stack = current + stack  \n",
    "    else:\n",
    "        flat_list.append(current)  \n",
    "\n",
    "print(\"Flattened List:\", flat_list)\n"
   ]
  },
  {
   "cell_type": "code",
   "execution_count": null,
   "id": "2055f088-c0cc-4c24-a1bc-8ea8aaf5e15b",
   "metadata": {},
   "outputs": [],
   "source": []
  }
 ],
 "metadata": {
  "kernelspec": {
   "display_name": "Python [conda env:base] *",
   "language": "python",
   "name": "conda-base-py"
  },
  "language_info": {
   "codemirror_mode": {
    "name": "ipython",
    "version": 3
   },
   "file_extension": ".py",
   "mimetype": "text/x-python",
   "name": "python",
   "nbconvert_exporter": "python",
   "pygments_lexer": "ipython3",
   "version": "3.12.7"
  }
 },
 "nbformat": 4,
 "nbformat_minor": 5
}
