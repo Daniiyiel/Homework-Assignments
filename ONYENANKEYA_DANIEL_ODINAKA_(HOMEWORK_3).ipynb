{
  "cells": [
    {
      "cell_type": "code",
      "execution_count": 71,
      "metadata": {
        "colab": {
          "base_uri": "https://localhost:8080/"
        },
        "id": "CRRKwXe47Dhw",
        "outputId": "04507f68-5bce-4335-bde7-3bf36b36aa55"
      },
      "outputs": [
        {
          "output_type": "stream",
          "name": "stdout",
          "text": [
            "Enter the text you want to analyze: hello world, hello daniel daniel world world hello\n",
            "\n",
            "Word Frequency Dictionary:\n",
            "{'hello': 3, 'world': 3, 'daniel': 2}\n",
            "\n",
            "The most frequent words are: ['hello', 'world'] (Frequency: 3)\n"
          ]
        }
      ],
      "source": [
        "#Task 1\n",
        "def analyzeMy_text():\n",
        "    text = input('Enter the text you want to analyze: ')\n",
        "    text = text.lower()\n",
        "\n",
        "    punctuation = \".,!?;:'\\\"()[]{}<>*/\\\\-_=+'~@#$%^&|\"\n",
        "    for char in punctuation:\n",
        "        text = text.replace(char, '')\n",
        "\n",
        "    words = text.split()\n",
        "\n",
        "    if not words:\n",
        "        print(\"Invalid word entered\")\n",
        "        return\n",
        "\n",
        "    word_freq = {}\n",
        "    for word in words:\n",
        "        word_freq[word] = word_freq.get(word, 0) + 1\n",
        "\n",
        "    print(\"\\nWord Frequency Dictionary:\")\n",
        "    print(word_freq)\n",
        "\n",
        "    max_freq = max(word_freq.values())\n",
        "    most_frequent_words = [word for word, freq in word_freq.items() if freq == max_freq]\n",
        "\n",
        "    if len(most_frequent_words) == 1:\n",
        "        print(f\"\\nThe most frequent word is: '{most_frequent_words[0]}' (Frequency: {max_freq})\")\n",
        "    else:\n",
        "        print(f\"\\nThe most frequent words are: {most_frequent_words} (Frequency: {max_freq})\")\n",
        "\n",
        "# Run the function\n",
        "analyzeMy_text()\n"
      ]
    },
    {
      "cell_type": "code",
      "execution_count": 72,
      "metadata": {
        "colab": {
          "base_uri": "https://localhost:8080/"
        },
        "id": "LaiWKDnr7U1X",
        "outputId": "805feeff-1885-44df-96b4-c2b998d8472d"
      },
      "outputs": [
        {
          "output_type": "stream",
          "name": "stdout",
          "text": [
            "Welcome to our store!  Enter your Choice item.\n",
            "Enter done or a blank input when you are done picking\n",
            "Enter item:bell pepper\n",
            "Bell Pepper added to your Shopping_List.\n",
            "Enter item:candy\n",
            "Candy added to your Shopping_List.\n",
            "Enter item:done\n",
            "\n",
            "Your sorted Shopping_List:\n",
            "– Bell Pepper\n",
            "– Candy\n"
          ]
        }
      ],
      "source": [
        "#Task 2\n",
        "def Create_Shopping_List(inventory):\n",
        "      Shopping_List = []\n",
        "      print ('Welcome to our store!  Enter your Choice item.')\n",
        "      print ('Enter done or a blank input when you are done picking')\n",
        "      while True:\n",
        "               Item = input ('Enter item:').strip().lower()\n",
        "               if Item == '' or Item == 'done':\n",
        "                   break\n",
        "               if Item in inventory:\n",
        "                     Shopping_List.append(Item)\n",
        "                     print (f'{ Item.title()} added to your Shopping_List.')\n",
        "               else:\n",
        "                     print(f'Sorry, we do not have \"{Item}\"')\n",
        "      if not Shopping_List:\n",
        "           print ('\\n Your Shopping_List is empty.')\n",
        "      else:\n",
        "          print('\\nYour sorted Shopping_List:')\n",
        "          for item in sorted(Shopping_List):\n",
        "             print(f'– {item.title()}')\n",
        "\n",
        "inventory = { 'apple': 30, 'banana': 50, 'orange': 40, 'grapes': 25, 'watermelon': 10,\n",
        "             'pineapple': 15, 'mango': 20, 'kiwi': 18, 'papaya': 12, 'strawberry': 22, 'blueberry': 14, 'peach': 16, 'cherry': 9, 'broccoli': 35,\n",
        "              'carrot': 60, 'spinach': 45, 'tomato': 80, 'potato': 100, 'onion': 90, 'garlic': 50, 'cabbage': 30, 'lettuce': 28, 'cauliflower': 22,\n",
        "              'cucumber': 40, 'bell pepper': 34, 'milk': 55, 'cheese': 20, 'yogurt': 25, 'butter': 18, 'eggs': 70, 'bread': 65, 'rice': 75, 'pasta': 40,\n",
        "              'flour': 60, 'sugar': 50, 'salt': 45, 'cereal': 38, 'oil': 30, 'tea': 40, 'coffee': 35, 'juice': 42, 'soda': 50, 'water bottle': 100, 'cookies': 48,\n",
        "              'chips': 55, 'chocolate': 33, 'candy': 27, 'toothpaste': 25, 'soap': 30, 'shampoo': 20, 'tissue': 40, 'detergent': 35, 'cleaner': 22, 'toilet paper': 60,\n",
        "              'dish soap': 18,\n",
        "              'aluminum foil': 15, 'plastic wrap': 17 }\n",
        "Create_Shopping_List(inventory)\n"
      ]
    },
    {
      "cell_type": "code",
      "execution_count": 73,
      "metadata": {
        "id": "FcucSnoKEHxm",
        "colab": {
          "base_uri": "https://localhost:8080/"
        },
        "outputId": "6fc37f5e-578d-44db-c63e-a4142d21e724"
      },
      "outputs": [
        {
          "output_type": "stream",
          "name": "stdout",
          "text": [
            "Exams in A -> Z order:\n",
            "Chinese - 21-06-2022\n",
            "Economics - 18-06-2022\n",
            "English - 25-06-2022\n",
            "Japanese - 21-06-2022\n",
            "Korean - 21-06-2022\n",
            "Programming in Python - 27-06-2022\n",
            "Regional Studies - 28-07-2022\n",
            "\n",
            "Exams in Z -> A order:\n",
            "Regional Studies - 28-07-2022\n",
            "Programming in Python - 27-06-2022\n",
            "Korean - 21-06-2022\n",
            "Japanese - 21-06-2022\n",
            "English - 25-06-2022\n",
            "Economics - 18-06-2022\n",
            "Chinese - 21-06-2022\n",
            "\n",
            "Exams from earliest to latest:\n",
            "Economics - 18-06-2022\n",
            "Japanese - 21-06-2022\n",
            "Korean - 21-06-2022\n",
            "Chinese - 21-06-2022\n",
            "English - 25-06-2022\n",
            "Programming in Python - 27-06-2022\n",
            "Regional Studies - 28-07-2022\n",
            "\n",
            "Exams from latest to earliest:\n",
            "Regional Studies - 28-07-2022\n",
            "Programming in Python - 27-06-2022\n",
            "English - 25-06-2022\n",
            "Japanese - 21-06-2022\n",
            "Korean - 21-06-2022\n",
            "Chinese - 21-06-2022\n",
            "Economics - 18-06-2022\n",
            "\n",
            "Earliest exam:\n",
            "Economics - 18-06-2022\n",
            "\n",
            "Latest exam:\n",
            "Regional Studies - 28-07-2022\n",
            "\n",
            "Exams grouped by date:\n",
            "18-06-2022 Economics \n",
            "21-06-2022 Chinese Japanese Korean \n",
            "25-06-2022 English \n",
            "27-06-2022 Programming in Python \n",
            "28-07-2022 Regional Studies \n"
          ]
        }
      ],
      "source": [
        "#Task 3\n",
        "exam_dates = {\n",
        "    'Economics': '18-06-2022',\n",
        "    'Japanese': '21-06-2022',\n",
        "    'Korean': '21-06-2022',\n",
        "    'Chinese': '21-06-2022',\n",
        "    'English': '25-06-2022',\n",
        "    'Programming in Python': '27-06-2022',\n",
        "    'Regional Studies': '28-07-2022'\n",
        "}\n",
        "\n",
        "\n",
        "def date_to_tuple(date_str):\n",
        "    day, month, year = date_str.split('-')\n",
        "    return int(year), int(month), int(day)\n",
        "\n",
        "\n",
        "print(\"Exams in A -> Z order:\")\n",
        "for course in sorted(exam_dates):\n",
        "    print(course, \"-\", exam_dates[course])\n",
        "\n",
        "\n",
        "print(\"\\nExams in Z -> A order:\")\n",
        "for course in sorted(exam_dates, reverse=True):\n",
        "    print(course, \"-\", exam_dates[course])\n",
        "\n",
        "\n",
        "print(\"\\nExams from earliest to latest:\")\n",
        "for course in sorted(exam_dates, key=lambda x: date_to_tuple(exam_dates[x])):\n",
        "    print(course, \"-\", exam_dates[course])\n",
        "\n",
        "\n",
        "print(\"\\nExams from latest to earliest:\")\n",
        "for course in sorted(exam_dates, key=lambda x: date_to_tuple(exam_dates[x]), reverse=True):\n",
        "    print(course, \"-\", exam_dates[course])\n",
        "\n",
        "earliest_course = min(exam_dates, key=lambda x: date_to_tuple(exam_dates[x]))\n",
        "print(\"\\nEarliest exam:\")\n",
        "print(earliest_course, \"-\", exam_dates[earliest_course])\n",
        "\n",
        "\n",
        "latest_course = max(exam_dates, key=lambda x: date_to_tuple(exam_dates[x]))\n",
        "print(\"\\nLatest exam:\")\n",
        "print(latest_course, \"-\", exam_dates[latest_course])\n",
        "\n",
        "\n",
        "print(\"\\nExams grouped by date:\")\n",
        "\n",
        "date_courses = {}\n",
        "for course, date in exam_dates.items():\n",
        "    if date in date_courses:\n",
        "        date_courses[date].append(course)\n",
        "    else:\n",
        "        date_courses[date] = [course]\n",
        "\n",
        "for date in sorted(date_courses, key=lambda x: date_to_tuple(x)):\n",
        "    print(date, end=\" \")\n",
        "    for course in sorted(date_courses[date]):\n",
        "        print(course, end=\" \")\n",
        "    print()\n"
      ]
    },
    {
      "cell_type": "code",
      "execution_count": 74,
      "metadata": {
        "id": "D3K8pquM7Xdg",
        "colab": {
          "base_uri": "https://localhost:8080/"
        },
        "outputId": "8a1b0886-6171-40a4-948c-a0b5a14a325b"
      },
      "outputs": [
        {
          "output_type": "stream",
          "name": "stdout",
          "text": [
            "True\n",
            "False\n",
            "True\n",
            "False\n",
            "False\n",
            "False\n",
            "False\n"
          ]
        }
      ],
      "source": [
        "#Task 4\n",
        "def isValidDate(year, month, day):\n",
        "\n",
        "    if month < 1 or month > 12:\n",
        "        return False\n",
        "\n",
        "\n",
        "    if day < 1:\n",
        "        return False\n",
        "\n",
        "\n",
        "    if month in [4, 6, 9, 11]:\n",
        "        max_day = 30\n",
        "    elif month == 2:\n",
        "\n",
        "        if (year % 4 == 0 and year % 100 != 0) or (year % 400 == 0):\n",
        "            max_day = 29\n",
        "        else:\n",
        "            max_day = 28\n",
        "    else:\n",
        "        max_day = 31\n",
        "\n",
        "\n",
        "    if day > max_day:\n",
        "        return False\n",
        "\n",
        "    return True\n",
        "\n",
        "\n",
        "print(isValidDate(1999, 12, 31))\n",
        "print(isValidDate(2029, 13, 1))\n",
        "print(isValidDate(2020, 2, 29))\n",
        "print(isValidDate(2023, 2, 29))\n",
        "print(isValidDate(2023, 4, 31))\n",
        "print(isValidDate(2023, 0, 10))\n",
        "print(isValidDate(2023, 5, 0))\n"
      ]
    },
    {
      "cell_type": "code",
      "execution_count": 60,
      "metadata": {
        "id": "PxQcyttx7YHU",
        "colab": {
          "base_uri": "https://localhost:8080/"
        },
        "outputId": "3d8bb4ac-694f-4393-a1fa-1a888322dbde"
      },
      "outputs": [
        {
          "output_type": "stream",
          "name": "stdout",
          "text": [
            "Generated CAPTCHA: Z^N6)2pck\n"
          ]
        }
      ],
      "source": [
        "#Task 5\n",
        "import random\n",
        "\n",
        "def generate_captcha():\n",
        "\n",
        "    uppercase = \"ABCDEFGHIJKLMNOPQRSTUVWXYZ\"\n",
        "    lowercase = \"abcdefghijklmnopqrstuvwxyz\"\n",
        "    digits = \"0123456789\"\n",
        "    specials = \":~!@#$%^&*()_+\"\n",
        "\n",
        "\n",
        "    captcha = [\n",
        "        random.choice(uppercase),\n",
        "        random.choice(lowercase),\n",
        "        random.choice(digits),\n",
        "        random.choice(specials)\n",
        "    ]\n",
        "\n",
        "    remaining_length = random.randint(4, 8)\n",
        "    all_chars = uppercase + lowercase + digits + specials\n",
        "\n",
        "\n",
        "    for _ in range(remaining_length):\n",
        "        captcha.append(random.choice(all_chars))\n",
        "\n",
        "    random.shuffle(captcha)\n",
        "\n",
        "    return ''.join(captcha)\n",
        "\n",
        "\n",
        "print(\"Generated CAPTCHA:\", generate_captcha())\n"
      ]
    }
  ],
  "metadata": {
    "colab": {
      "provenance": []
    },
    "kernelspec": {
      "display_name": "Python 3",
      "name": "python3"
    },
    "language_info": {
      "name": "python"
    }
  },
  "nbformat": 4,
  "nbformat_minor": 0
}